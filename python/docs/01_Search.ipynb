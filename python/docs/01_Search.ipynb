{
 "cells": [
  {
   "cell_type": "code",
   "execution_count": null,
   "id": "96730d24",
   "metadata": {
    "scrolled": true
   },
   "outputs": [],
   "source": [
    "import diagonal_b6 as b6\n",
    "\n",
    "# !conda install pandas -y\n",
    "# !conda install matplotlib -y\n",
    "\n",
    "import pandas as pd"
   ]
  },
  {
   "cell_type": "code",
   "execution_count": null,
   "id": "23a94203",
   "metadata": {},
   "outputs": [],
   "source": [
    "# connect to the world\n",
    "grpc_address = \"localhost:8002\"\n",
    "w = b6.connect_insecure(grpc_address)"
   ]
  },
  {
   "cell_type": "code",
   "execution_count": null,
   "id": "96beb323",
   "metadata": {},
   "outputs": [],
   "source": [
    "OAKLEY_SQUARE_GARDENS_WAY_ID = 26717682\n",
    "OAKLEY_SQUARE_GARDENS_BENCH_NODE_ID = 2345394864"
   ]
  },
  {
   "cell_type": "markdown",
   "id": "4a77f6b8",
   "metadata": {},
   "source": [
    "## The world?\n",
    "One of the huge benefits of bedrock is that it allows you to build up a query or analysis without evaluating it. \n",
    "You evaluate your query, for example, via applying `w` to it. \n",
    "You will see this across the examples as `w(query)`"
   ]
  },
  {
   "cell_type": "markdown",
   "id": "264cc1c2",
   "metadata": {},
   "source": [
    "## Tags\n",
    "\n",
    "`b6` lets you search the world of osm in whatever data you have loaded. \n",
    "You do this via OSM tags (https://wiki.openstreetmap.org/wiki/Tags). Not all tags are \"searchable\", the ones that are have a `#` up front. Here are ones we have made searchable by default:\n",
    "\n",
    "\t\"amenity\":   \"#amenity\"\n",
    "\t\"barrier\":   \"#barrier\"\n",
    "\t\"boundary\":  \"#boundary\"\n",
    "\t\"bridge\":    \"#bridge\"\n",
    "\t\"building\":  \"#building\"\n",
    "\t\"highway\":   \"#highway\"\n",
    "\t\"landuse\":   \"#landuse\"\n",
    "\t\"leisure\":   \"#leisure\"\n",
    "\t\"natural\":   \"#natural\"\n",
    "\t\"network\":   \"#network\"\n",
    "\t\"place\":     \"#place\"\n",
    "\t\"railway\":   \"#railway\"\n",
    "\t\"route\":     \"#route\"\n",
    "\t\"shop\":      \"#shop\"\n",
    "\t\"water\":     \"#water\"\n",
    "\t\"waterway\":  \"#waterway\"\n",
    "\t\"fhrs:id\":   \"@fhrs:id\"\n",
    "\t\"wikidata\":  \"@wikidata\"\n",
    "\t\"wikipedia\": \"@wikipedia\""
   ]
  },
  {
   "cell_type": "code",
   "execution_count": null,
   "id": "277ecb84",
   "metadata": {
    "scrolled": true
   },
   "outputs": [],
   "source": [
    "# find all the parks - https://wiki.openstreetmap.org/wiki/Tag:leisure%3Dpark\n",
    "parks = b6.find( b6.tagged(\"#leisure\",\"park\") )\n",
    "\n",
    "# access the metadata via `all_tags()`\n",
    "for osmid,park in w(parks):\n",
    "    print( f\"{osmid}\\n{park.all_tags()}\" )"
   ]
  },
  {
   "cell_type": "markdown",
   "id": "f9599da9",
   "metadata": {},
   "source": [
    "## OSM IDs\n",
    "`b6` is able to find features directly from their `OSM ID`"
   ]
  },
  {
   "cell_type": "code",
   "execution_count": null,
   "id": "a5d8c950",
   "metadata": {},
   "outputs": [],
   "source": [
    "# or if you knew the OSM ID of a park you could find it that way\n",
    "oakleysq_gardens = b6.find_area( b6.osm_way_area_id(OAKLEY_SQUARE_GARDENS_WAY_ID) )\n",
    "\n",
    "print( w(oakleysq_gardens).all_tags() )"
   ]
  },
  {
   "cell_type": "code",
   "execution_count": null,
   "id": "2043338c",
   "metadata": {},
   "outputs": [],
   "source": [
    "# you can also search for a bench in the park\n",
    "bench = b6.find_point( b6.osm_node_id(OAKLEY_SQUARE_GARDENS_BENCH_NODE_ID ))\n",
    "\n",
    "print( w(bench).all_tags() )"
   ]
  },
  {
   "cell_type": "markdown",
   "id": "cb6f49b9",
   "metadata": {},
   "source": [
    "Using the OSM ID you also have access to `b6.osm_way_id` for finding a ways (areas and lines), and for finding relations you have `b6.osm_relation_area_id`, `b6.osm_relation_id`\n",
    "\n",
    "For search you can always use `b6.find` but if you are being specific, aside from `b6.find_point` and `b6.find_area` there is also `b6.find_path`. More on this below. \n"
   ]
  },
  {
   "cell_type": "code",
   "execution_count": null,
   "id": "49c35439",
   "metadata": {
    "scrolled": false
   },
   "outputs": [],
   "source": [
    "# If you didn't know what other features were in the park, \n",
    "# you could limit your search to what is in the park area\n",
    "contained_in_oakleysq_gardens = b6.find( b6.intersecting( b6.find_feature(oakleysq_gardens) ) )\n",
    "\n",
    "for osmid, feature in w(contained_in_oakleysq_gardens):\n",
    "    print( f\"{osmid}\\n{feature.all_tags()}\" )"
   ]
  },
  {
   "cell_type": "markdown",
   "id": "32959116",
   "metadata": {},
   "source": [
    "---\n",
    "Note that searching for what is in the park yields different types of features. \n",
    "\n",
    "- It yields `nodes`, which in this instance are benches. \n",
    "- It yields `ways`, which `b6` splits into `paths` and `areas`\n",
    "    - `areas` are ways which represent areas, and the rest are `paths`       \n",
    "- It also yields `access-path` which is also a `path` - these are paths we have automatically generated to ensure all features are connected to the network. This is helpful, for example if you want to compute routes."
   ]
  },
  {
   "cell_type": "code",
   "execution_count": null,
   "id": "ffec4f31",
   "metadata": {},
   "outputs": [],
   "source": [
    "# you could be more precise and only search for `points` within the park\n",
    "points_in_oakleysq_gardens = b6.find_points( b6.intersecting( b6.find_feature(oakleysq_gardens) ) )\n",
    "\n",
    "for osmid, point in w(points_in_oakleysq_gardens):\n",
    "    print( f\"{osmid}\\n{point.all_tags()}\" )"
   ]
  },
  {
   "cell_type": "code",
   "execution_count": null,
   "id": "ec686b6a",
   "metadata": {},
   "outputs": [],
   "source": [
    "# you could be more precise and only search for `areas` within the park\n",
    "areas_in_oakleysq_gardens = b6.find_areas( b6.intersecting( b6.find_feature(oakleysq_gardens) ) )\n",
    "\n",
    "for osmid, area in w(areas_in_oakleysq_gardens):\n",
    "    print( f\"{osmid}\\n{area.all_tags()}\" )"
   ]
  },
  {
   "cell_type": "code",
   "execution_count": null,
   "id": "4281616c",
   "metadata": {},
   "outputs": [],
   "source": [
    "# you could be more precise and only search for `paths` within the park\n",
    "paths_in_oakleysq_gardens = b6.find_paths( b6.intersecting( b6.find_feature(oakleysq_gardens) ) )\n",
    "\n",
    "for osmid, path in w(paths_in_oakleysq_gardens):\n",
    "    print( f\"{osmid}\\n{path.all_tags()}\" )"
   ]
  },
  {
   "cell_type": "markdown",
   "id": "c1a011d9",
   "metadata": {},
   "source": [
    "##  Filter\n",
    "\n",
    "You can use `.filter` to narrow down your search.\n",
    "You can also then apply `.map` to grab the value of a tag.\n",
    "When grabbing the value of a tag you have four options:\n",
    "- `get` which gets you whatever the value is\n",
    "- `get_string`\n",
    "- `get_int`\n",
    "- `get_float`"
   ]
  },
  {
   "cell_type": "code",
   "execution_count": null,
   "id": "e07114e1",
   "metadata": {},
   "outputs": [],
   "source": [
    "# you can search for features and filter to only get features that contain a certain tag\n",
    "contained_in_oakleysq_gardens = b6.find( b6.intersecting( b6.find_feature(oakleysq_gardens) ) )\n",
    "amenities_in_oakleysq_gardens = contained_in_oakleysq_gardens.filter(lambda a: b6.has_key(a, \"#amenity\"))\n",
    "\n",
    "for osmid, amenity in w(amenities_in_oakleysq_gardens):\n",
    "    print( f\"{osmid}\\n{amenity.all_tags()}\" )"
   ]
  },
  {
   "cell_type": "code",
   "execution_count": null,
   "id": "08431c50",
   "metadata": {
    "scrolled": true
   },
   "outputs": [],
   "source": [
    "# more generally you can do a wide search, using the searchable tags,\n",
    "# then do a filter for features that have other non-searchable tags, present. \n",
    "offices_with_levels = b6.find_areas( b6.tagged(\"#building\",\"office\") ) \\\n",
    "                          .filter(lambda b: b6.has_key(b, \"building:levels\"))\n",
    "\n",
    "for osmid, office in w(offices_with_levels):\n",
    "    print( f\"{osmid}\\n{office.all_tags()}\" )"
   ]
  },
  {
   "cell_type": "code",
   "execution_count": null,
   "id": "9542ee53",
   "metadata": {},
   "outputs": [],
   "source": [
    "# even more fun, you can extract the value of that tag\n",
    "levels_in_offices = offices_with_levels.map(lambda b: b6.get_int(b, \"building:levels\"))\n",
    "\n",
    "for osmid, levels in w(levels_in_offices):\n",
    "    print( f\"{osmid} -->{levels} levels\" )"
   ]
  },
  {
   "cell_type": "code",
   "execution_count": null,
   "id": "849da3b7",
   "metadata": {},
   "outputs": [],
   "source": [
    "# you can use that to then analyse/categorise/filter by value as you need, using python\n",
    "df = pd.DataFrame(w(levels_in_offices),\n",
    "                  columns =[\"office\",\"number_of_levels\"]\n",
    "                 ).set_index(\"office\")\n",
    "\n",
    "df.plot.hist()"
   ]
  }
 ],
 "metadata": {
  "kernelspec": {
   "display_name": "Python 3 (ipykernel)",
   "language": "python",
   "name": "python3"
  },
  "language_info": {
   "codemirror_mode": {
    "name": "ipython",
    "version": 3
   },
   "file_extension": ".py",
   "mimetype": "text/x-python",
   "name": "python",
   "nbconvert_exporter": "python",
   "pygments_lexer": "ipython3",
   "version": "3.11.3"
  }
 },
 "nbformat": 4,
 "nbformat_minor": 5
}
